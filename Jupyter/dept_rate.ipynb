{
  "nbformat": 4,
  "nbformat_minor": 0,
  "metadata": {
    "colab": {
      "provenance": [],
      "collapsed_sections": []
    },
    "kernelspec": {
      "name": "python3",
      "display_name": "Python 3"
    },
    "language_info": {
      "name": "python"
    }
  },
  "cells": [
    {
      "cell_type": "code",
      "execution_count": null,
      "metadata": {
        "id": "V1GiwFJc1XXu"
      },
      "outputs": [],
      "source": [
        "import numpy as np\n",
        "import matplotlib.pyplot as plt\n",
        "import pandas as pd\n",
        "\n",
        "from google.colab import files\n",
        "from datetime import datetime\n",
        "from dateutil.relativedelta import relativedelta\n"
      ]
    },
    {
      "cell_type": "code",
      "source": [
        "n = 30                       # in years, runtime of loan\n",
        "S0= 100e3                    # in EUR, loan amount\n",
        "\n",
        "i_var = 1.2                  # in percent, intrest rate premium on EURIBOR\n",
        "\n",
        "i_band_low = 1.9             # in percent, minimum intrest rate of bandwith loan premium on EURIBOR\n",
        "i_band_high = 3.3            # in percent, maximum intrest rate of bandwith loan premium on EURIBOR  \n",
        "n_band = 10                  # in years, runtime of bandwith loan afterwards i_n_band offset to EURIBOR\n",
        "i_n_band = 3                 # in percent, intrest rate of fix loan premium on EURIBOR after n_band\n",
        "\n",
        "n_fix = 10                   # in years, runtime of fix loan afterwards i_n_fix offset to EURIBOR\n",
        "i_fix = 3                    # in percent, intrest rate of fix loan period\n",
        "i_n_fix = 1.65               # in percent, intrest rate of fix loan premium on EURIBOR after n_fix\n",
        "\n",
        "R_zu = 00e3                  # in EUR, Special repayment per year"
      ],
      "metadata": {
        "id": "l97KpY9g1eyZ"
      },
      "execution_count": null,
      "outputs": []
    },
    {
      "cell_type": "code",
      "source": [
        "################################################################################\n",
        "## Load estimated 3M Euribor data (can/should be changed)                      #\n",
        "################################################################################\n",
        "\n",
        "#uploaded = files.upload()\n",
        "df = pd.read_csv(\"3M_Euribor_estimation.txt\",sep=';',header=None)\n",
        "# df.head()"
      ],
      "metadata": {
        "id": "nBJ44G5a8nHI",
        "colab": {
          "base_uri": "https://localhost:8080/",
          "height": 206
        },
        "outputId": "349d81be-aff7-41cf-e4c3-b2bae237bd1e"
      },
      "execution_count": null,
      "outputs": [
        {
          "output_type": "execute_result",
          "data": {
            "text/plain": [
              "            0        1\n",
              "0  01.08.2022  0.00246\n",
              "1  01.09.2022  0.00712\n",
              "2  01.12.2022  0.01000\n",
              "3  01.02.2023  0.01500\n",
              "4  01.05.2023  0.02500"
            ],
            "text/html": [
              "\n",
              "  <div id=\"df-4657d202-1c8d-4374-83bc-d5853dcf36f5\">\n",
              "    <div class=\"colab-df-container\">\n",
              "      <div>\n",
              "<style scoped>\n",
              "    .dataframe tbody tr th:only-of-type {\n",
              "        vertical-align: middle;\n",
              "    }\n",
              "\n",
              "    .dataframe tbody tr th {\n",
              "        vertical-align: top;\n",
              "    }\n",
              "\n",
              "    .dataframe thead th {\n",
              "        text-align: right;\n",
              "    }\n",
              "</style>\n",
              "<table border=\"1\" class=\"dataframe\">\n",
              "  <thead>\n",
              "    <tr style=\"text-align: right;\">\n",
              "      <th></th>\n",
              "      <th>0</th>\n",
              "      <th>1</th>\n",
              "    </tr>\n",
              "  </thead>\n",
              "  <tbody>\n",
              "    <tr>\n",
              "      <th>0</th>\n",
              "      <td>01.08.2022</td>\n",
              "      <td>0.00246</td>\n",
              "    </tr>\n",
              "    <tr>\n",
              "      <th>1</th>\n",
              "      <td>01.09.2022</td>\n",
              "      <td>0.00712</td>\n",
              "    </tr>\n",
              "    <tr>\n",
              "      <th>2</th>\n",
              "      <td>01.12.2022</td>\n",
              "      <td>0.01000</td>\n",
              "    </tr>\n",
              "    <tr>\n",
              "      <th>3</th>\n",
              "      <td>01.02.2023</td>\n",
              "      <td>0.01500</td>\n",
              "    </tr>\n",
              "    <tr>\n",
              "      <th>4</th>\n",
              "      <td>01.05.2023</td>\n",
              "      <td>0.02500</td>\n",
              "    </tr>\n",
              "  </tbody>\n",
              "</table>\n",
              "</div>\n",
              "      <button class=\"colab-df-convert\" onclick=\"convertToInteractive('df-4657d202-1c8d-4374-83bc-d5853dcf36f5')\"\n",
              "              title=\"Convert this dataframe to an interactive table.\"\n",
              "              style=\"display:none;\">\n",
              "        \n",
              "  <svg xmlns=\"http://www.w3.org/2000/svg\" height=\"24px\"viewBox=\"0 0 24 24\"\n",
              "       width=\"24px\">\n",
              "    <path d=\"M0 0h24v24H0V0z\" fill=\"none\"/>\n",
              "    <path d=\"M18.56 5.44l.94 2.06.94-2.06 2.06-.94-2.06-.94-.94-2.06-.94 2.06-2.06.94zm-11 1L8.5 8.5l.94-2.06 2.06-.94-2.06-.94L8.5 2.5l-.94 2.06-2.06.94zm10 10l.94 2.06.94-2.06 2.06-.94-2.06-.94-.94-2.06-.94 2.06-2.06.94z\"/><path d=\"M17.41 7.96l-1.37-1.37c-.4-.4-.92-.59-1.43-.59-.52 0-1.04.2-1.43.59L10.3 9.45l-7.72 7.72c-.78.78-.78 2.05 0 2.83L4 21.41c.39.39.9.59 1.41.59.51 0 1.02-.2 1.41-.59l7.78-7.78 2.81-2.81c.8-.78.8-2.07 0-2.86zM5.41 20L4 18.59l7.72-7.72 1.47 1.35L5.41 20z\"/>\n",
              "  </svg>\n",
              "      </button>\n",
              "      \n",
              "  <style>\n",
              "    .colab-df-container {\n",
              "      display:flex;\n",
              "      flex-wrap:wrap;\n",
              "      gap: 12px;\n",
              "    }\n",
              "\n",
              "    .colab-df-convert {\n",
              "      background-color: #E8F0FE;\n",
              "      border: none;\n",
              "      border-radius: 50%;\n",
              "      cursor: pointer;\n",
              "      display: none;\n",
              "      fill: #1967D2;\n",
              "      height: 32px;\n",
              "      padding: 0 0 0 0;\n",
              "      width: 32px;\n",
              "    }\n",
              "\n",
              "    .colab-df-convert:hover {\n",
              "      background-color: #E2EBFA;\n",
              "      box-shadow: 0px 1px 2px rgba(60, 64, 67, 0.3), 0px 1px 3px 1px rgba(60, 64, 67, 0.15);\n",
              "      fill: #174EA6;\n",
              "    }\n",
              "\n",
              "    [theme=dark] .colab-df-convert {\n",
              "      background-color: #3B4455;\n",
              "      fill: #D2E3FC;\n",
              "    }\n",
              "\n",
              "    [theme=dark] .colab-df-convert:hover {\n",
              "      background-color: #434B5C;\n",
              "      box-shadow: 0px 1px 3px 1px rgba(0, 0, 0, 0.15);\n",
              "      filter: drop-shadow(0px 1px 2px rgba(0, 0, 0, 0.3));\n",
              "      fill: #FFFFFF;\n",
              "    }\n",
              "  </style>\n",
              "\n",
              "      <script>\n",
              "        const buttonEl =\n",
              "          document.querySelector('#df-4657d202-1c8d-4374-83bc-d5853dcf36f5 button.colab-df-convert');\n",
              "        buttonEl.style.display =\n",
              "          google.colab.kernel.accessAllowed ? 'block' : 'none';\n",
              "\n",
              "        async function convertToInteractive(key) {\n",
              "          const element = document.querySelector('#df-4657d202-1c8d-4374-83bc-d5853dcf36f5');\n",
              "          const dataTable =\n",
              "            await google.colab.kernel.invokeFunction('convertToInteractive',\n",
              "                                                     [key], {});\n",
              "          if (!dataTable) return;\n",
              "\n",
              "          const docLinkHtml = 'Like what you see? Visit the ' +\n",
              "            '<a target=\"_blank\" href=https://colab.research.google.com/notebooks/data_table.ipynb>data table notebook</a>'\n",
              "            + ' to learn more about interactive tables.';\n",
              "          element.innerHTML = '';\n",
              "          dataTable['output_type'] = 'display_data';\n",
              "          await google.colab.output.renderOutput(dataTable, element);\n",
              "          const docLink = document.createElement('div');\n",
              "          docLink.innerHTML = docLinkHtml;\n",
              "          element.appendChild(docLink);\n",
              "        }\n",
              "      </script>\n",
              "    </div>\n",
              "  </div>\n",
              "  "
            ]
          },
          "metadata": {},
          "execution_count": 42
        }
      ]
    },
    {
      "cell_type": "code",
      "source": [
        "################################################################################\n",
        "##  Intrest rate calculations                                                  #\n",
        "################################################################################\n",
        "\n",
        "date_csv = []\n",
        "for cnt,i in enumerate(df[0]):\n",
        "  date_csv.append(datetime.strptime(i, '%d.%m.%Y'))\n",
        "\n",
        "x = []\n",
        "for i in date_csv:\n",
        "  rdiff = relativedelta(i,date_csv[0])\n",
        "  x.append(rdiff.years*12+rdiff.months)\n",
        "\n",
        "print(x)\n",
        "\n",
        "mon = np.linspace(0,n*12-1,n*12)\n",
        "inte = []\n",
        "cnt_i = 0;\n",
        "for cnt,i in enumerate(mon):\n",
        "  if mon[cnt] == x[cnt_i]:\n",
        "    # print(i)\n",
        "    inte.append(df[1][cnt_i+1])\n",
        "    cnt_i = cnt_i+1\n",
        "  else:\n",
        "    inte.append(df[1][cnt_i])\n",
        "\n",
        "i_var_eff = []\n",
        "i_band_eff= []\n",
        "i_fix_eff = []\n",
        "\n",
        "for cnt,i in enumerate(inte):\n",
        "  i_var_eff.append(i+i_var/100)\n",
        "\n",
        "  if cnt < 12*n_band:\n",
        "    if i < i_band_low/100:\n",
        "      i_band_eff.append(i_band_low/100)\n",
        "    elif i > i_band_high/100:\n",
        "      i_band_eff.append(i_band_high/100)\n",
        "    else:\n",
        "      i_band_eff.append(i)\n",
        "  else:\n",
        "      i_band_eff.append(i+i_n_band/100)\n",
        "\n",
        "  if cnt < 12*n_fix:\n",
        "    i_fix_eff.append(i_fix/100)\n",
        "  else:\n",
        "    i_fix_eff.append(i+i_n_fix/100)\n",
        "\n",
        "plt.plot(mon,inte,label='Estimated 3M Euribor')\n",
        "plt.plot(mon,i_var_eff, label='Resulting variable intrest')\n",
        "plt.plot(mon,i_band_eff, label='Resulting bandwith intrest')\n",
        "plt.plot(mon,i_fix_eff, label='Resulting fix intrest')\n",
        "plt.legend()\n",
        "plt.xlabel('Months')\n",
        "plt.title('Different intrest rates over months')\n",
        "plt.ylabel('Intrest rates in percentage')\n",
        "plt.show()\n",
        "print(inte)"
      ],
      "metadata": {
        "colab": {
          "base_uri": "https://localhost:8080/",
          "height": 350
        },
        "id": "ld5mSUx6ki-x",
        "outputId": "2d37f522-c31a-45a7-f362-e8f82f0b85ad"
      },
      "execution_count": null,
      "outputs": [
        {
          "output_type": "stream",
          "name": "stdout",
          "text": [
            "[0, 1, 4, 6, 9, 21, 33, 45, 57, 93, 117, 153, 360]\n"
          ]
        },
        {
          "output_type": "display_data",
          "data": {
            "text/plain": [
              "<Figure size 432x288 with 1 Axes>"
            ],
            "image/png": "[encoded data removed]"
          },
          "metadata": {
            "needs_background": "light"
          }
        },
        {
          "output_type": "stream",
          "name": "stdout",
          "text": [
            "[0.00712, 0.01, 0.01, 0.01, 0.015, 0.015, 0.025, 0.025, 0.025, 0.035, 0.035, 0.035, 0.035, 0.035, 0.035, 0.035, 0.035, 0.035, 0.035, 0.035, 0.035, 0.045, 0.045, 0.045, 0.045, 0.045, 0.045, 0.045, 0.045, 0.045, 0.045, 0.045, 0.045, 0.055, 0.055, 0.055, 0.055, 0.055, 0.055, 0.055, 0.055, 0.055, 0.055, 0.055, 0.055, 0.06, 0.06, 0.06, 0.06, 0.06, 0.06, 0.06, 0.06, 0.06, 0.06, 0.06, 0.06, 0.06, 0.06, 0.06, 0.06, 0.06, 0.06, 0.06, 0.06, 0.06, 0.06, 0.06, 0.06, 0.06, 0.06, 0.06, 0.06, 0.06, 0.06, 0.06, 0.06, 0.06, 0.06, 0.06, 0.06, 0.06, 0.06, 0.06, 0.06, 0.06, 0.06, 0.06, 0.06, 0.06, 0.06, 0.06, 0.06, 0.05, 0.05, 0.05, 0.05, 0.05, 0.05, 0.05, 0.05, 0.05, 0.05, 0.05, 0.05, 0.05, 0.05, 0.05, 0.05, 0.05, 0.05, 0.05, 0.05, 0.05, 0.05, 0.05, 0.05, 0.045, 0.045, 0.045, 0.045, 0.045, 0.045, 0.045, 0.045, 0.045, 0.045, 0.045, 0.045, 0.045, 0.045, 0.045, 0.045, 0.045, 0.045, 0.045, 0.045, 0.045, 0.045, 0.045, 0.045, 0.045, 0.045, 0.045, 0.045, 0.045, 0.045, 0.045, 0.045, 0.045, 0.045, 0.045, 0.045, 0.04, 0.04, 0.04, 0.04, 0.04, 0.04, 0.04, 0.04, 0.04, 0.04, 0.04, 0.04, 0.04, 0.04, 0.04, 0.04, 0.04, 0.04, 0.04, 0.04, 0.04, 0.04, 0.04, 0.04, 0.04, 0.04, 0.04, 0.04, 0.04, 0.04, 0.04, 0.04, 0.04, 0.04, 0.04, 0.04, 0.04, 0.04, 0.04, 0.04, 0.04, 0.04, 0.04, 0.04, 0.04, 0.04, 0.04, 0.04, 0.04, 0.04, 0.04, 0.04, 0.04, 0.04, 0.04, 0.04, 0.04, 0.04, 0.04, 0.04, 0.04, 0.04, 0.04, 0.04, 0.04, 0.04, 0.04, 0.04, 0.04, 0.04, 0.04, 0.04, 0.04, 0.04, 0.04, 0.04, 0.04, 0.04, 0.04, 0.04, 0.04, 0.04, 0.04, 0.04, 0.04, 0.04, 0.04, 0.04, 0.04, 0.04, 0.04, 0.04, 0.04, 0.04, 0.04, 0.04, 0.04, 0.04, 0.04, 0.04, 0.04, 0.04, 0.04, 0.04, 0.04, 0.04, 0.04, 0.04, 0.04, 0.04, 0.04, 0.04, 0.04, 0.04, 0.04, 0.04, 0.04, 0.04, 0.04, 0.04, 0.04, 0.04, 0.04, 0.04, 0.04, 0.04, 0.04, 0.04, 0.04, 0.04, 0.04, 0.04, 0.04, 0.04, 0.04, 0.04, 0.04, 0.04, 0.04, 0.04, 0.04, 0.04, 0.04, 0.04, 0.04, 0.04, 0.04, 0.04, 0.04, 0.04, 0.04, 0.04, 0.04, 0.04, 0.04, 0.04, 0.04, 0.04, 0.04, 0.04, 0.04, 0.04, 0.04, 0.04, 0.04, 0.04, 0.04, 0.04, 0.04, 0.04, 0.04, 0.04, 0.04, 0.04, 0.04, 0.04, 0.04, 0.04, 0.04, 0.04, 0.04, 0.04, 0.04, 0.04, 0.04, 0.04, 0.04, 0.04, 0.04, 0.04, 0.04, 0.04, 0.04, 0.04, 0.04, 0.04, 0.04, 0.04, 0.04, 0.04, 0.04, 0.04, 0.04, 0.04, 0.04, 0.04, 0.04]\n"
          ]
        }
      ]
    },
    {
      "cell_type": "code",
      "source": [
        "################################################################################\n",
        "##  Calculations to for monthly loan rate                                      #\n",
        "################################################################################\n",
        "\n",
        "# function [ R ] = calc_rate( i, S0, n, R, R_zu, mode )\n",
        "# [ R ] =  calc_rate( i, S0, n, R, R_zu, mode )\n",
        "# function to calculate dept rate\n",
        "#   i               Zinssatz\n",
        "#   S0              Kreditsumme\n",
        "#   n               Laufzeit in Jahre\n",
        "#   R               Aktuelle Rate\n",
        "#   R_zu            Zustäzliche Rate\n",
        "\n",
        "# Berechnung der Mindestannuität\n",
        "# https://de.wikipedia.org/wiki/Annuit%C3%A4tendarlehen\n",
        "# q = 1+i;                    \t% Zinsfaktor pro Jahr\n",
        "# R = S0*q^n*i/(q^n-1)/12;      % min. monatliche Rate\n",
        "\n",
        "def calc_rate(i,S0,n,R,Rzu):\n",
        "  q = 1 + i\n",
        "  if S0 > 0:\n",
        "    if (S0-R>0):\n",
        "      if(S0-R-Rzu>0):\n",
        "        R = S0 * q**n*i/(q**n-1)/12+Rzu\n",
        "      else:\n",
        "        R = S0 * q**n*i/(q**n-1)/12+S0\n",
        "    else:\n",
        "      R = S0\n",
        "  else:\n",
        "    R = 0\n",
        "\n",
        "  return R\n"
      ],
      "metadata": {
        "id": "tkpuXazF-9bI"
      },
      "execution_count": null,
      "outputs": []
    },
    {
      "cell_type": "code",
      "source": [
        "# To check function/definiton test with knwon example/rate\n",
        "Ra = 0\n",
        "R = calc_rate(0.012,100e3,30,Ra,0)\n",
        "print(R)"
      ],
      "metadata": {
        "colab": {
          "base_uri": "https://localhost:8080/"
        },
        "id": "msF9Ao5P_1vZ",
        "outputId": "82dfa0f8-663a-4748-e6b9-6d37d5a07b71"
      },
      "execution_count": null,
      "outputs": [
        {
          "output_type": "stream",
          "name": "stdout",
          "text": [
            "332.41692804992346\n"
          ]
        }
      ]
    },
    {
      "cell_type": "code",
      "source": [
        "################################################################################\n",
        "##  Calculations to dept and monthly loan                                      #\n",
        "################################################################################\n",
        "# calc debt function\n",
        "# def calc_dept(S0,n,intr,R_zu):\n",
        "# S0    loan amount\n",
        "# n     loan term\n",
        "# intr  loan rate in percent\n",
        "# R_zu  Special repayment per year\n",
        "\n",
        "def calc_dept(S0,n,intr,R_zu):\n",
        "  ST = []                # Restschuld\n",
        "  ST.append(S0)\n",
        "  R = []\n",
        "  R.append(calc_rate(intr[0],ST[0],n,0,0))\n",
        "\n",
        "  for cnt,i in enumerate(intr):\n",
        "    # print(cnt)\n",
        "    if cnt< len(intr)-1:\n",
        "      if(cnt%12)==0:\n",
        "        R.append(calc_rate(intr[cnt],ST[cnt],n-cnt/12,R[cnt],R_zu))\n",
        "      else:\n",
        "        R.append(calc_rate(intr[cnt],ST[cnt],n-cnt/12,R[cnt],0))\n",
        "    ST.append(ST[cnt]*(1+i*1/12)-R[cnt])\n",
        "  return (R,ST)"
      ],
      "metadata": {
        "id": "LIHlvjlDAt1G"
      },
      "execution_count": null,
      "outputs": []
    },
    {
      "cell_type": "code",
      "source": [
        "[R_var,ST_var] = calc_dept(S0,n,i_var_eff,R_zu)\n",
        "[R_fix,ST_fix] = calc_dept(S0,n,i_fix_eff, R_zu)\n",
        "[R_band,ST_band] = calc_dept(S0,n,i_band_eff, R_zu)"
      ],
      "metadata": {
        "id": "AE_qgLCMCx4m"
      },
      "execution_count": null,
      "outputs": []
    },
    {
      "cell_type": "code",
      "source": [
        "plt.plot(mon,R_var,label='var')\n",
        "plt.plot(mon,R_fix,label='fix')\n",
        "plt.plot(mon,R_band,label='band')\n",
        "plt.ylim(000,800)\n",
        "plt.legend()\n",
        "plt.xlabel('Months')\n",
        "plt.ylabel('Monthly rate in EUR')\n",
        "plt.title(f'Monthly rate with {R_zu} EUR special repayment per year')\n",
        "plt.show()"
      ],
      "metadata": {
        "colab": {
          "base_uri": "https://localhost:8080/",
          "height": 295
        },
        "id": "E_iNEjtMKvNT",
        "outputId": "5e8b34f3-b344-4da9-f2ad-92a83cf8d87f"
      },
      "execution_count": null,
      "outputs": [
        {
          "output_type": "display_data",
          "data": {
            "text/plain": [
              "<Figure size 432x288 with 1 Axes>"
            ],
            "image/png": "[encoded data removed]"
          },
          "metadata": {
            "needs_background": "light"
          }
        }
      ]
    },
    {
      "cell_type": "code",
      "source": [
        "print(f'Total repayment with the variable credit:\\t{np.sum(R_var):.0f} EUR')\n",
        "print(f'Total repayment with the fix credit:\\t\\t{np.sum(R_fix):.0f} EUR')\n",
        "print(f'Total repayment with the bandwith credit:\\t{np.sum(R_band):.0f} EUR')"
      ],
      "metadata": {
        "colab": {
          "base_uri": "https://localhost:8080/"
        },
        "id": "h_lAc7XrNH02",
        "outputId": "892f157f-46e2-4ab3-91e7-5a85d24488d4"
      },
      "execution_count": null,
      "outputs": [
        {
          "output_type": "stream",
          "name": "stdout",
          "text": [
            "Total repayment with the variable credit:\t208257 EUR\n",
            "Total repayment with the fix credit:\t\t177922 EUR\n",
            "Total repayment with the bandwith credit:\t194324 EUR\n"
          ]
        }
      ]
    }
  ]
}